{
 "cells": [
  {
   "cell_type": "markdown",
   "id": "2dcaf668",
   "metadata": {},
   "source": [
    "## APPOINTMENT \n",
    "\n",
    "#### Introduction\n",
    "\n",
    "Appointment data are activities related to the Schedule day, appointment day, Age of people with different health issues that showed up and didn't show up .\n",
    "\n",
    "In this analysis, I will be answering few questions on about the appointments. Each record represents a single day of Appointment, and includes PatientId, AppointmentID, Gender, ScheduledDay, AppointmentDay, Age, Neighbourhood, Scholarship, Hipertension, Diabetes, Alcoholism, Handcap, SMS_received, no_show, month, weekday, hour.\n",
    "\n",
    "#### Data Validation\n",
    "\n",
    "Before analysing, i made sure i performed thorough data validation and data wrangling to the dataset that was provided to me. Step by Step details of my Data validation process are well explained below:\n",
    "\n",
    "The original data consist of 110,328 rows and 14 columns, namely; PatientId, AppointmentID, Gender, ScheduledDay, AppointmentDay, Age, Neighbourhood, Scholarship, Hipertension, Diabetes, Alcoholism, Handcap, SMS_received, no_show.\n",
    "\n",
    "* I checked the entire columns,\n",
    "* I checked for null values,\n",
    "* I noticed one of the values in the Age column has a subtraction sign, so i removed it,\n",
    "* I noticed that the vlaues in the handicap column is more than 0 and 1 so i removed any value >1,\n",
    "* I changed column name No-show to no_show,\n",
    "* I replaced the values in no_show colum from yes/no to present/absent,\n",
    "* I converted the ScheduledDay and AppointmentDay datatype to datetime data type,\n",
    "* I separated months,hours and weekday from the ScheduledDay,\n",
    "* I replaced the values of weekday column.\n",
    "\n",
    "\n",
    "#### Questions\n",
    "\n",
    "* what's the ratio of people who misss/didn't miss the appointment?\n",
    "* who didn't show up more often male or female?\n",
    "* Most month for not showing up?\n",
    "* Most hour for not showing up?\n",
    "* Most weekday for not showing up?\n",
    "* Age distribution of patients?\n",
    "\n",
    "\n",
    "#### Exploratory Data Analysis (EDA)\n",
    "\n",
    "* The ratio of people who misss/didn't miss the appointment 79.80 for present and 20.19 for absent.\n",
    "* The Females didn't show up more often.\n",
    "* The most month for not showing up is May.\n",
    "* The most hour for not showing up is 7.\n",
    "* The most weekday for not showing up is Tuesday.\n",
    "* In the age distribution we have people of 0-20 years of age more.\n",
    "\n",
    "\n",
    "#### Conclusion\n",
    "\n",
    "According to my analysis it shows that female didn't show up more for their appointment and we have more people presnt than absent for their appoinment, People didn't really show up for their appoint in may."
   ]
  },
  {
   "cell_type": "code",
   "execution_count": null,
   "id": "6a12540b",
   "metadata": {},
   "outputs": [],
   "source": []
  }
 ],
 "metadata": {
  "kernelspec": {
   "display_name": "Python 3 (ipykernel)",
   "language": "python",
   "name": "python3"
  },
  "language_info": {
   "codemirror_mode": {
    "name": "ipython",
    "version": 3
   },
   "file_extension": ".py",
   "mimetype": "text/x-python",
   "name": "python",
   "nbconvert_exporter": "python",
   "pygments_lexer": "ipython3",
   "version": "3.9.13"
  }
 },
 "nbformat": 4,
 "nbformat_minor": 5
}
