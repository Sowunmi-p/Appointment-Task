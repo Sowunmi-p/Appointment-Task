{
 "cells": [
  {
   "cell_type": "markdown",
   "id": "08beb4de",
   "metadata": {},
   "source": [
    "## importing libraries "
   ]
  },
  {
   "cell_type": "code",
   "execution_count": 77,
   "id": "92a266f8",
   "metadata": {},
   "outputs": [],
   "source": [
    "import seaborn as sns\n",
    "#sns.set()\n",
    "sns.set(style=\"whitegrid\")\n",
    "\n",
    "\n",
    "import numpy as np\n",
    "import pandas as pd\n",
    "import cutecharts.charts as ctc\n",
    "from cutecharts.charts import Line\n",
    "from cutecharts.faker import Faker\n",
    "# importing matplotlib\n",
    "import matplotlib.pyplot as plt\n",
    "%matplotlib inline"
   ]
  },
  {
   "cell_type": "markdown",
   "id": "6d5b0805",
   "metadata": {},
   "source": [
    "## Getting the file"
   ]
  },
  {
   "cell_type": "code",
   "execution_count": 78,
   "id": "7961626f",
   "metadata": {},
   "outputs": [],
   "source": [
    "df = pd.read_csv('Downloads/KaggleV2.csv')"
   ]
  },
  {
   "cell_type": "code",
   "execution_count": 92,
   "id": "83073f80",
   "metadata": {},
   "outputs": [
    {
     "data": {
      "text/html": [
       "<div>\n",
       "<style scoped>\n",
       "    .dataframe tbody tr th:only-of-type {\n",
       "        vertical-align: middle;\n",
       "    }\n",
       "\n",
       "    .dataframe tbody tr th {\n",
       "        vertical-align: top;\n",
       "    }\n",
       "\n",
       "    .dataframe thead th {\n",
       "        text-align: right;\n",
       "    }\n",
       "</style>\n",
       "<table border=\"1\" class=\"dataframe\">\n",
       "  <thead>\n",
       "    <tr style=\"text-align: right;\">\n",
       "      <th></th>\n",
       "      <th>PatientId</th>\n",
       "      <th>AppointmentID</th>\n",
       "      <th>Gender</th>\n",
       "      <th>ScheduledDay</th>\n",
       "      <th>AppointmentDay</th>\n",
       "      <th>Age</th>\n",
       "      <th>Neighbourhood</th>\n",
       "      <th>Scholarship</th>\n",
       "      <th>Hipertension</th>\n",
       "      <th>Diabetes</th>\n",
       "      <th>Alcoholism</th>\n",
       "      <th>Handcap</th>\n",
       "      <th>SMS_received</th>\n",
       "      <th>no_show</th>\n",
       "      <th>month</th>\n",
       "      <th>weekday</th>\n",
       "      <th>hour</th>\n",
       "    </tr>\n",
       "  </thead>\n",
       "  <tbody>\n",
       "    <tr>\n",
       "      <th>0</th>\n",
       "      <td>2.987250e+13</td>\n",
       "      <td>5642903</td>\n",
       "      <td>F</td>\n",
       "      <td>2016-04-29 18:38:08+00:00</td>\n",
       "      <td>2016-04-29 00:00:00+00:00</td>\n",
       "      <td>62</td>\n",
       "      <td>JARDIM DA PENHA</td>\n",
       "      <td>0</td>\n",
       "      <td>1</td>\n",
       "      <td>0</td>\n",
       "      <td>0</td>\n",
       "      <td>0</td>\n",
       "      <td>0</td>\n",
       "      <td>present</td>\n",
       "      <td>April</td>\n",
       "      <td>Friday</td>\n",
       "      <td>18</td>\n",
       "    </tr>\n",
       "    <tr>\n",
       "      <th>1</th>\n",
       "      <td>5.589980e+14</td>\n",
       "      <td>5642503</td>\n",
       "      <td>M</td>\n",
       "      <td>2016-04-29 16:08:27+00:00</td>\n",
       "      <td>2016-04-29 00:00:00+00:00</td>\n",
       "      <td>56</td>\n",
       "      <td>JARDIM DA PENHA</td>\n",
       "      <td>0</td>\n",
       "      <td>0</td>\n",
       "      <td>0</td>\n",
       "      <td>0</td>\n",
       "      <td>0</td>\n",
       "      <td>0</td>\n",
       "      <td>present</td>\n",
       "      <td>April</td>\n",
       "      <td>Friday</td>\n",
       "      <td>16</td>\n",
       "    </tr>\n",
       "    <tr>\n",
       "      <th>2</th>\n",
       "      <td>4.262960e+12</td>\n",
       "      <td>5642549</td>\n",
       "      <td>F</td>\n",
       "      <td>2016-04-29 16:19:04+00:00</td>\n",
       "      <td>2016-04-29 00:00:00+00:00</td>\n",
       "      <td>62</td>\n",
       "      <td>MATA DA PRAIA</td>\n",
       "      <td>0</td>\n",
       "      <td>0</td>\n",
       "      <td>0</td>\n",
       "      <td>0</td>\n",
       "      <td>0</td>\n",
       "      <td>0</td>\n",
       "      <td>present</td>\n",
       "      <td>April</td>\n",
       "      <td>Friday</td>\n",
       "      <td>16</td>\n",
       "    </tr>\n",
       "    <tr>\n",
       "      <th>3</th>\n",
       "      <td>8.679510e+11</td>\n",
       "      <td>5642828</td>\n",
       "      <td>F</td>\n",
       "      <td>2016-04-29 17:29:31+00:00</td>\n",
       "      <td>2016-04-29 00:00:00+00:00</td>\n",
       "      <td>8</td>\n",
       "      <td>PONTAL DE CAMBURI</td>\n",
       "      <td>0</td>\n",
       "      <td>0</td>\n",
       "      <td>0</td>\n",
       "      <td>0</td>\n",
       "      <td>0</td>\n",
       "      <td>0</td>\n",
       "      <td>present</td>\n",
       "      <td>April</td>\n",
       "      <td>Friday</td>\n",
       "      <td>17</td>\n",
       "    </tr>\n",
       "    <tr>\n",
       "      <th>4</th>\n",
       "      <td>8.841190e+12</td>\n",
       "      <td>5642494</td>\n",
       "      <td>F</td>\n",
       "      <td>2016-04-29 16:07:23+00:00</td>\n",
       "      <td>2016-04-29 00:00:00+00:00</td>\n",
       "      <td>56</td>\n",
       "      <td>JARDIM DA PENHA</td>\n",
       "      <td>0</td>\n",
       "      <td>1</td>\n",
       "      <td>1</td>\n",
       "      <td>0</td>\n",
       "      <td>0</td>\n",
       "      <td>0</td>\n",
       "      <td>present</td>\n",
       "      <td>April</td>\n",
       "      <td>Friday</td>\n",
       "      <td>16</td>\n",
       "    </tr>\n",
       "    <tr>\n",
       "      <th>5</th>\n",
       "      <td>9.598510e+13</td>\n",
       "      <td>5626772</td>\n",
       "      <td>F</td>\n",
       "      <td>2016-04-27 08:36:51+00:00</td>\n",
       "      <td>2016-04-29 00:00:00+00:00</td>\n",
       "      <td>76</td>\n",
       "      <td>REPÚBLICA</td>\n",
       "      <td>0</td>\n",
       "      <td>1</td>\n",
       "      <td>0</td>\n",
       "      <td>0</td>\n",
       "      <td>0</td>\n",
       "      <td>0</td>\n",
       "      <td>present</td>\n",
       "      <td>April</td>\n",
       "      <td>wednesday</td>\n",
       "      <td>8</td>\n",
       "    </tr>\n",
       "    <tr>\n",
       "      <th>6</th>\n",
       "      <td>7.336880e+14</td>\n",
       "      <td>5630279</td>\n",
       "      <td>F</td>\n",
       "      <td>2016-04-27 15:05:12+00:00</td>\n",
       "      <td>2016-04-29 00:00:00+00:00</td>\n",
       "      <td>23</td>\n",
       "      <td>GOIABEIRAS</td>\n",
       "      <td>0</td>\n",
       "      <td>0</td>\n",
       "      <td>0</td>\n",
       "      <td>0</td>\n",
       "      <td>0</td>\n",
       "      <td>0</td>\n",
       "      <td>absent</td>\n",
       "      <td>April</td>\n",
       "      <td>wednesday</td>\n",
       "      <td>15</td>\n",
       "    </tr>\n",
       "    <tr>\n",
       "      <th>7</th>\n",
       "      <td>3.449830e+12</td>\n",
       "      <td>5630575</td>\n",
       "      <td>F</td>\n",
       "      <td>2016-04-27 15:39:58+00:00</td>\n",
       "      <td>2016-04-29 00:00:00+00:00</td>\n",
       "      <td>39</td>\n",
       "      <td>GOIABEIRAS</td>\n",
       "      <td>0</td>\n",
       "      <td>0</td>\n",
       "      <td>0</td>\n",
       "      <td>0</td>\n",
       "      <td>0</td>\n",
       "      <td>0</td>\n",
       "      <td>absent</td>\n",
       "      <td>April</td>\n",
       "      <td>wednesday</td>\n",
       "      <td>15</td>\n",
       "    </tr>\n",
       "    <tr>\n",
       "      <th>8</th>\n",
       "      <td>5.639470e+13</td>\n",
       "      <td>5638447</td>\n",
       "      <td>F</td>\n",
       "      <td>2016-04-29 08:02:16+00:00</td>\n",
       "      <td>2016-04-29 00:00:00+00:00</td>\n",
       "      <td>21</td>\n",
       "      <td>ANDORINHAS</td>\n",
       "      <td>0</td>\n",
       "      <td>0</td>\n",
       "      <td>0</td>\n",
       "      <td>0</td>\n",
       "      <td>0</td>\n",
       "      <td>0</td>\n",
       "      <td>present</td>\n",
       "      <td>April</td>\n",
       "      <td>Friday</td>\n",
       "      <td>8</td>\n",
       "    </tr>\n",
       "    <tr>\n",
       "      <th>9</th>\n",
       "      <td>7.812460e+13</td>\n",
       "      <td>5629123</td>\n",
       "      <td>F</td>\n",
       "      <td>2016-04-27 12:48:25+00:00</td>\n",
       "      <td>2016-04-29 00:00:00+00:00</td>\n",
       "      <td>19</td>\n",
       "      <td>CONQUISTA</td>\n",
       "      <td>0</td>\n",
       "      <td>0</td>\n",
       "      <td>0</td>\n",
       "      <td>0</td>\n",
       "      <td>0</td>\n",
       "      <td>0</td>\n",
       "      <td>present</td>\n",
       "      <td>April</td>\n",
       "      <td>wednesday</td>\n",
       "      <td>12</td>\n",
       "    </tr>\n",
       "    <tr>\n",
       "      <th>10</th>\n",
       "      <td>7.345360e+14</td>\n",
       "      <td>5630213</td>\n",
       "      <td>F</td>\n",
       "      <td>2016-04-27 14:58:11+00:00</td>\n",
       "      <td>2016-04-29 00:00:00+00:00</td>\n",
       "      <td>30</td>\n",
       "      <td>NOVA PALESTINA</td>\n",
       "      <td>0</td>\n",
       "      <td>0</td>\n",
       "      <td>0</td>\n",
       "      <td>0</td>\n",
       "      <td>0</td>\n",
       "      <td>0</td>\n",
       "      <td>present</td>\n",
       "      <td>April</td>\n",
       "      <td>wednesday</td>\n",
       "      <td>14</td>\n",
       "    </tr>\n",
       "    <tr>\n",
       "      <th>11</th>\n",
       "      <td>7.542950e+12</td>\n",
       "      <td>5620163</td>\n",
       "      <td>M</td>\n",
       "      <td>2016-04-26 08:44:12+00:00</td>\n",
       "      <td>2016-04-29 00:00:00+00:00</td>\n",
       "      <td>29</td>\n",
       "      <td>NOVA PALESTINA</td>\n",
       "      <td>0</td>\n",
       "      <td>0</td>\n",
       "      <td>0</td>\n",
       "      <td>0</td>\n",
       "      <td>0</td>\n",
       "      <td>1</td>\n",
       "      <td>absent</td>\n",
       "      <td>April</td>\n",
       "      <td>Tuesday</td>\n",
       "      <td>8</td>\n",
       "    </tr>\n",
       "    <tr>\n",
       "      <th>12</th>\n",
       "      <td>5.666550e+14</td>\n",
       "      <td>5634718</td>\n",
       "      <td>F</td>\n",
       "      <td>2016-04-28 11:33:51+00:00</td>\n",
       "      <td>2016-04-29 00:00:00+00:00</td>\n",
       "      <td>22</td>\n",
       "      <td>NOVA PALESTINA</td>\n",
       "      <td>1</td>\n",
       "      <td>0</td>\n",
       "      <td>0</td>\n",
       "      <td>0</td>\n",
       "      <td>0</td>\n",
       "      <td>0</td>\n",
       "      <td>present</td>\n",
       "      <td>April</td>\n",
       "      <td>Thursday</td>\n",
       "      <td>11</td>\n",
       "    </tr>\n",
       "    <tr>\n",
       "      <th>13</th>\n",
       "      <td>9.113950e+14</td>\n",
       "      <td>5636249</td>\n",
       "      <td>M</td>\n",
       "      <td>2016-04-28 14:52:07+00:00</td>\n",
       "      <td>2016-04-29 00:00:00+00:00</td>\n",
       "      <td>28</td>\n",
       "      <td>NOVA PALESTINA</td>\n",
       "      <td>0</td>\n",
       "      <td>0</td>\n",
       "      <td>0</td>\n",
       "      <td>0</td>\n",
       "      <td>0</td>\n",
       "      <td>0</td>\n",
       "      <td>present</td>\n",
       "      <td>April</td>\n",
       "      <td>Thursday</td>\n",
       "      <td>14</td>\n",
       "    </tr>\n",
       "    <tr>\n",
       "      <th>14</th>\n",
       "      <td>9.988470e+13</td>\n",
       "      <td>5633951</td>\n",
       "      <td>F</td>\n",
       "      <td>2016-04-28 10:06:24+00:00</td>\n",
       "      <td>2016-04-29 00:00:00+00:00</td>\n",
       "      <td>54</td>\n",
       "      <td>NOVA PALESTINA</td>\n",
       "      <td>0</td>\n",
       "      <td>0</td>\n",
       "      <td>0</td>\n",
       "      <td>0</td>\n",
       "      <td>0</td>\n",
       "      <td>0</td>\n",
       "      <td>present</td>\n",
       "      <td>April</td>\n",
       "      <td>Thursday</td>\n",
       "      <td>10</td>\n",
       "    </tr>\n",
       "    <tr>\n",
       "      <th>15</th>\n",
       "      <td>9.994839e+10</td>\n",
       "      <td>5620206</td>\n",
       "      <td>F</td>\n",
       "      <td>2016-04-26 08:47:27+00:00</td>\n",
       "      <td>2016-04-29 00:00:00+00:00</td>\n",
       "      <td>15</td>\n",
       "      <td>NOVA PALESTINA</td>\n",
       "      <td>0</td>\n",
       "      <td>0</td>\n",
       "      <td>0</td>\n",
       "      <td>0</td>\n",
       "      <td>0</td>\n",
       "      <td>1</td>\n",
       "      <td>present</td>\n",
       "      <td>April</td>\n",
       "      <td>Tuesday</td>\n",
       "      <td>8</td>\n",
       "    </tr>\n",
       "    <tr>\n",
       "      <th>16</th>\n",
       "      <td>8.457440e+13</td>\n",
       "      <td>5633121</td>\n",
       "      <td>M</td>\n",
       "      <td>2016-04-28 08:51:47+00:00</td>\n",
       "      <td>2016-04-29 00:00:00+00:00</td>\n",
       "      <td>50</td>\n",
       "      <td>NOVA PALESTINA</td>\n",
       "      <td>0</td>\n",
       "      <td>0</td>\n",
       "      <td>0</td>\n",
       "      <td>0</td>\n",
       "      <td>0</td>\n",
       "      <td>0</td>\n",
       "      <td>present</td>\n",
       "      <td>April</td>\n",
       "      <td>Thursday</td>\n",
       "      <td>8</td>\n",
       "    </tr>\n",
       "    <tr>\n",
       "      <th>17</th>\n",
       "      <td>1.479500e+13</td>\n",
       "      <td>5633460</td>\n",
       "      <td>F</td>\n",
       "      <td>2016-04-28 09:28:57+00:00</td>\n",
       "      <td>2016-04-29 00:00:00+00:00</td>\n",
       "      <td>40</td>\n",
       "      <td>CONQUISTA</td>\n",
       "      <td>1</td>\n",
       "      <td>0</td>\n",
       "      <td>0</td>\n",
       "      <td>0</td>\n",
       "      <td>0</td>\n",
       "      <td>0</td>\n",
       "      <td>absent</td>\n",
       "      <td>April</td>\n",
       "      <td>Thursday</td>\n",
       "      <td>9</td>\n",
       "    </tr>\n",
       "    <tr>\n",
       "      <th>18</th>\n",
       "      <td>1.713540e+13</td>\n",
       "      <td>5621836</td>\n",
       "      <td>F</td>\n",
       "      <td>2016-04-26 10:54:18+00:00</td>\n",
       "      <td>2016-04-29 00:00:00+00:00</td>\n",
       "      <td>30</td>\n",
       "      <td>NOVA PALESTINA</td>\n",
       "      <td>1</td>\n",
       "      <td>0</td>\n",
       "      <td>0</td>\n",
       "      <td>0</td>\n",
       "      <td>0</td>\n",
       "      <td>1</td>\n",
       "      <td>present</td>\n",
       "      <td>April</td>\n",
       "      <td>Tuesday</td>\n",
       "      <td>10</td>\n",
       "    </tr>\n",
       "    <tr>\n",
       "      <th>19</th>\n",
       "      <td>7.223290e+12</td>\n",
       "      <td>5640433</td>\n",
       "      <td>F</td>\n",
       "      <td>2016-04-29 10:43:14+00:00</td>\n",
       "      <td>2016-04-29 00:00:00+00:00</td>\n",
       "      <td>46</td>\n",
       "      <td>DA PENHA</td>\n",
       "      <td>0</td>\n",
       "      <td>0</td>\n",
       "      <td>0</td>\n",
       "      <td>0</td>\n",
       "      <td>0</td>\n",
       "      <td>0</td>\n",
       "      <td>present</td>\n",
       "      <td>April</td>\n",
       "      <td>Friday</td>\n",
       "      <td>10</td>\n",
       "    </tr>\n",
       "  </tbody>\n",
       "</table>\n",
       "</div>"
      ],
      "text/plain": [
       "       PatientId  AppointmentID Gender              ScheduledDay  \\\n",
       "0   2.987250e+13        5642903      F 2016-04-29 18:38:08+00:00   \n",
       "1   5.589980e+14        5642503      M 2016-04-29 16:08:27+00:00   \n",
       "2   4.262960e+12        5642549      F 2016-04-29 16:19:04+00:00   \n",
       "3   8.679510e+11        5642828      F 2016-04-29 17:29:31+00:00   \n",
       "4   8.841190e+12        5642494      F 2016-04-29 16:07:23+00:00   \n",
       "5   9.598510e+13        5626772      F 2016-04-27 08:36:51+00:00   \n",
       "6   7.336880e+14        5630279      F 2016-04-27 15:05:12+00:00   \n",
       "7   3.449830e+12        5630575      F 2016-04-27 15:39:58+00:00   \n",
       "8   5.639470e+13        5638447      F 2016-04-29 08:02:16+00:00   \n",
       "9   7.812460e+13        5629123      F 2016-04-27 12:48:25+00:00   \n",
       "10  7.345360e+14        5630213      F 2016-04-27 14:58:11+00:00   \n",
       "11  7.542950e+12        5620163      M 2016-04-26 08:44:12+00:00   \n",
       "12  5.666550e+14        5634718      F 2016-04-28 11:33:51+00:00   \n",
       "13  9.113950e+14        5636249      M 2016-04-28 14:52:07+00:00   \n",
       "14  9.988470e+13        5633951      F 2016-04-28 10:06:24+00:00   \n",
       "15  9.994839e+10        5620206      F 2016-04-26 08:47:27+00:00   \n",
       "16  8.457440e+13        5633121      M 2016-04-28 08:51:47+00:00   \n",
       "17  1.479500e+13        5633460      F 2016-04-28 09:28:57+00:00   \n",
       "18  1.713540e+13        5621836      F 2016-04-26 10:54:18+00:00   \n",
       "19  7.223290e+12        5640433      F 2016-04-29 10:43:14+00:00   \n",
       "\n",
       "              AppointmentDay  Age      Neighbourhood  Scholarship  \\\n",
       "0  2016-04-29 00:00:00+00:00   62    JARDIM DA PENHA            0   \n",
       "1  2016-04-29 00:00:00+00:00   56    JARDIM DA PENHA            0   \n",
       "2  2016-04-29 00:00:00+00:00   62      MATA DA PRAIA            0   \n",
       "3  2016-04-29 00:00:00+00:00    8  PONTAL DE CAMBURI            0   \n",
       "4  2016-04-29 00:00:00+00:00   56    JARDIM DA PENHA            0   \n",
       "5  2016-04-29 00:00:00+00:00   76          REPÚBLICA            0   \n",
       "6  2016-04-29 00:00:00+00:00   23         GOIABEIRAS            0   \n",
       "7  2016-04-29 00:00:00+00:00   39         GOIABEIRAS            0   \n",
       "8  2016-04-29 00:00:00+00:00   21         ANDORINHAS            0   \n",
       "9  2016-04-29 00:00:00+00:00   19          CONQUISTA            0   \n",
       "10 2016-04-29 00:00:00+00:00   30     NOVA PALESTINA            0   \n",
       "11 2016-04-29 00:00:00+00:00   29     NOVA PALESTINA            0   \n",
       "12 2016-04-29 00:00:00+00:00   22     NOVA PALESTINA            1   \n",
       "13 2016-04-29 00:00:00+00:00   28     NOVA PALESTINA            0   \n",
       "14 2016-04-29 00:00:00+00:00   54     NOVA PALESTINA            0   \n",
       "15 2016-04-29 00:00:00+00:00   15     NOVA PALESTINA            0   \n",
       "16 2016-04-29 00:00:00+00:00   50     NOVA PALESTINA            0   \n",
       "17 2016-04-29 00:00:00+00:00   40          CONQUISTA            1   \n",
       "18 2016-04-29 00:00:00+00:00   30     NOVA PALESTINA            1   \n",
       "19 2016-04-29 00:00:00+00:00   46           DA PENHA            0   \n",
       "\n",
       "    Hipertension  Diabetes  Alcoholism  Handcap  SMS_received  no_show  month  \\\n",
       "0              1         0           0        0             0  present  April   \n",
       "1              0         0           0        0             0  present  April   \n",
       "2              0         0           0        0             0  present  April   \n",
       "3              0         0           0        0             0  present  April   \n",
       "4              1         1           0        0             0  present  April   \n",
       "5              1         0           0        0             0  present  April   \n",
       "6              0         0           0        0             0   absent  April   \n",
       "7              0         0           0        0             0   absent  April   \n",
       "8              0         0           0        0             0  present  April   \n",
       "9              0         0           0        0             0  present  April   \n",
       "10             0         0           0        0             0  present  April   \n",
       "11             0         0           0        0             1   absent  April   \n",
       "12             0         0           0        0             0  present  April   \n",
       "13             0         0           0        0             0  present  April   \n",
       "14             0         0           0        0             0  present  April   \n",
       "15             0         0           0        0             1  present  April   \n",
       "16             0         0           0        0             0  present  April   \n",
       "17             0         0           0        0             0   absent  April   \n",
       "18             0         0           0        0             1  present  April   \n",
       "19             0         0           0        0             0  present  April   \n",
       "\n",
       "      weekday  hour  \n",
       "0      Friday    18  \n",
       "1      Friday    16  \n",
       "2      Friday    16  \n",
       "3      Friday    17  \n",
       "4      Friday    16  \n",
       "5   wednesday     8  \n",
       "6   wednesday    15  \n",
       "7   wednesday    15  \n",
       "8      Friday     8  \n",
       "9   wednesday    12  \n",
       "10  wednesday    14  \n",
       "11    Tuesday     8  \n",
       "12   Thursday    11  \n",
       "13   Thursday    14  \n",
       "14   Thursday    10  \n",
       "15    Tuesday     8  \n",
       "16   Thursday     8  \n",
       "17   Thursday     9  \n",
       "18    Tuesday    10  \n",
       "19     Friday    10  "
      ]
     },
     "execution_count": 92,
     "metadata": {},
     "output_type": "execute_result"
    }
   ],
   "source": [
    "df.head(20)"
   ]
  },
  {
   "cell_type": "markdown",
   "id": "738cb436",
   "metadata": {},
   "source": [
    "## Data processing"
   ]
  },
  {
   "cell_type": "code",
   "execution_count": 93,
   "id": "cb887a25",
   "metadata": {
    "scrolled": true
   },
   "outputs": [
    {
     "name": "stdout",
     "output_type": "stream",
     "text": [
      "<class 'pandas.core.frame.DataFrame'>\n",
      "Int64Index: 110328 entries, 0 to 110526\n",
      "Data columns (total 17 columns):\n",
      " #   Column          Non-Null Count   Dtype              \n",
      "---  ------          --------------   -----              \n",
      " 0   PatientId       110328 non-null  float64            \n",
      " 1   AppointmentID   110328 non-null  int64              \n",
      " 2   Gender          110328 non-null  object             \n",
      " 3   ScheduledDay    110328 non-null  datetime64[ns, UTC]\n",
      " 4   AppointmentDay  110328 non-null  datetime64[ns, UTC]\n",
      " 5   Age             110328 non-null  int64              \n",
      " 6   Neighbourhood   110328 non-null  object             \n",
      " 7   Scholarship     110328 non-null  int64              \n",
      " 8   Hipertension    110328 non-null  int64              \n",
      " 9   Diabetes        110328 non-null  int64              \n",
      " 10  Alcoholism      110328 non-null  int64              \n",
      " 11  Handcap         110328 non-null  int64              \n",
      " 12  SMS_received    110328 non-null  int64              \n",
      " 13  no_show         110328 non-null  object             \n",
      " 14  month           110328 non-null  object             \n",
      " 15  weekday         110328 non-null  object             \n",
      " 16  hour            110328 non-null  int64              \n",
      "dtypes: datetime64[ns, UTC](2), float64(1), int64(9), object(5)\n",
      "memory usage: 15.2+ MB\n"
     ]
    }
   ],
   "source": [
    "df.info()"
   ]
  },
  {
   "cell_type": "code",
   "execution_count": 81,
   "id": "ba3ddff5",
   "metadata": {
    "scrolled": true
   },
   "outputs": [
    {
     "data": {
      "text/html": [
       "<div>\n",
       "<style scoped>\n",
       "    .dataframe tbody tr th:only-of-type {\n",
       "        vertical-align: middle;\n",
       "    }\n",
       "\n",
       "    .dataframe tbody tr th {\n",
       "        vertical-align: top;\n",
       "    }\n",
       "\n",
       "    .dataframe thead th {\n",
       "        text-align: right;\n",
       "    }\n",
       "</style>\n",
       "<table border=\"1\" class=\"dataframe\">\n",
       "  <thead>\n",
       "    <tr style=\"text-align: right;\">\n",
       "      <th></th>\n",
       "      <th>PatientId</th>\n",
       "      <th>AppointmentID</th>\n",
       "      <th>Age</th>\n",
       "      <th>Scholarship</th>\n",
       "      <th>Hipertension</th>\n",
       "      <th>Diabetes</th>\n",
       "      <th>Alcoholism</th>\n",
       "      <th>Handcap</th>\n",
       "      <th>SMS_received</th>\n",
       "    </tr>\n",
       "  </thead>\n",
       "  <tbody>\n",
       "    <tr>\n",
       "      <th>count</th>\n",
       "      <td>1.105270e+05</td>\n",
       "      <td>1.105270e+05</td>\n",
       "      <td>110527.000000</td>\n",
       "      <td>110527.000000</td>\n",
       "      <td>110527.000000</td>\n",
       "      <td>110527.000000</td>\n",
       "      <td>110527.000000</td>\n",
       "      <td>110527.000000</td>\n",
       "      <td>110527.000000</td>\n",
       "    </tr>\n",
       "    <tr>\n",
       "      <th>mean</th>\n",
       "      <td>1.474963e+14</td>\n",
       "      <td>5.675305e+06</td>\n",
       "      <td>37.088874</td>\n",
       "      <td>0.098266</td>\n",
       "      <td>0.197246</td>\n",
       "      <td>0.071865</td>\n",
       "      <td>0.030400</td>\n",
       "      <td>0.022248</td>\n",
       "      <td>0.321026</td>\n",
       "    </tr>\n",
       "    <tr>\n",
       "      <th>std</th>\n",
       "      <td>2.560949e+14</td>\n",
       "      <td>7.129575e+04</td>\n",
       "      <td>23.110205</td>\n",
       "      <td>0.297675</td>\n",
       "      <td>0.397921</td>\n",
       "      <td>0.258265</td>\n",
       "      <td>0.171686</td>\n",
       "      <td>0.161543</td>\n",
       "      <td>0.466873</td>\n",
       "    </tr>\n",
       "    <tr>\n",
       "      <th>min</th>\n",
       "      <td>3.920000e+04</td>\n",
       "      <td>5.030230e+06</td>\n",
       "      <td>-1.000000</td>\n",
       "      <td>0.000000</td>\n",
       "      <td>0.000000</td>\n",
       "      <td>0.000000</td>\n",
       "      <td>0.000000</td>\n",
       "      <td>0.000000</td>\n",
       "      <td>0.000000</td>\n",
       "    </tr>\n",
       "    <tr>\n",
       "      <th>25%</th>\n",
       "      <td>4.172615e+12</td>\n",
       "      <td>5.640286e+06</td>\n",
       "      <td>18.000000</td>\n",
       "      <td>0.000000</td>\n",
       "      <td>0.000000</td>\n",
       "      <td>0.000000</td>\n",
       "      <td>0.000000</td>\n",
       "      <td>0.000000</td>\n",
       "      <td>0.000000</td>\n",
       "    </tr>\n",
       "    <tr>\n",
       "      <th>50%</th>\n",
       "      <td>3.173180e+13</td>\n",
       "      <td>5.680573e+06</td>\n",
       "      <td>37.000000</td>\n",
       "      <td>0.000000</td>\n",
       "      <td>0.000000</td>\n",
       "      <td>0.000000</td>\n",
       "      <td>0.000000</td>\n",
       "      <td>0.000000</td>\n",
       "      <td>0.000000</td>\n",
       "    </tr>\n",
       "    <tr>\n",
       "      <th>75%</th>\n",
       "      <td>9.439170e+13</td>\n",
       "      <td>5.725524e+06</td>\n",
       "      <td>55.000000</td>\n",
       "      <td>0.000000</td>\n",
       "      <td>0.000000</td>\n",
       "      <td>0.000000</td>\n",
       "      <td>0.000000</td>\n",
       "      <td>0.000000</td>\n",
       "      <td>1.000000</td>\n",
       "    </tr>\n",
       "    <tr>\n",
       "      <th>max</th>\n",
       "      <td>9.999820e+14</td>\n",
       "      <td>5.790484e+06</td>\n",
       "      <td>115.000000</td>\n",
       "      <td>1.000000</td>\n",
       "      <td>1.000000</td>\n",
       "      <td>1.000000</td>\n",
       "      <td>1.000000</td>\n",
       "      <td>4.000000</td>\n",
       "      <td>1.000000</td>\n",
       "    </tr>\n",
       "  </tbody>\n",
       "</table>\n",
       "</div>"
      ],
      "text/plain": [
       "          PatientId  AppointmentID            Age    Scholarship  \\\n",
       "count  1.105270e+05   1.105270e+05  110527.000000  110527.000000   \n",
       "mean   1.474963e+14   5.675305e+06      37.088874       0.098266   \n",
       "std    2.560949e+14   7.129575e+04      23.110205       0.297675   \n",
       "min    3.920000e+04   5.030230e+06      -1.000000       0.000000   \n",
       "25%    4.172615e+12   5.640286e+06      18.000000       0.000000   \n",
       "50%    3.173180e+13   5.680573e+06      37.000000       0.000000   \n",
       "75%    9.439170e+13   5.725524e+06      55.000000       0.000000   \n",
       "max    9.999820e+14   5.790484e+06     115.000000       1.000000   \n",
       "\n",
       "        Hipertension       Diabetes     Alcoholism        Handcap  \\\n",
       "count  110527.000000  110527.000000  110527.000000  110527.000000   \n",
       "mean        0.197246       0.071865       0.030400       0.022248   \n",
       "std         0.397921       0.258265       0.171686       0.161543   \n",
       "min         0.000000       0.000000       0.000000       0.000000   \n",
       "25%         0.000000       0.000000       0.000000       0.000000   \n",
       "50%         0.000000       0.000000       0.000000       0.000000   \n",
       "75%         0.000000       0.000000       0.000000       0.000000   \n",
       "max         1.000000       1.000000       1.000000       4.000000   \n",
       "\n",
       "        SMS_received  \n",
       "count  110527.000000  \n",
       "mean        0.321026  \n",
       "std         0.466873  \n",
       "min         0.000000  \n",
       "25%         0.000000  \n",
       "50%         0.000000  \n",
       "75%         1.000000  \n",
       "max         1.000000  "
      ]
     },
     "execution_count": 81,
     "metadata": {},
     "output_type": "execute_result"
    }
   ],
   "source": [
    "df.describe()"
   ]
  },
  {
   "cell_type": "code",
   "execution_count": 94,
   "id": "d58c0f1f",
   "metadata": {
    "scrolled": true
   },
   "outputs": [
    {
     "data": {
      "text/html": [
       "<div>\n",
       "<style scoped>\n",
       "    .dataframe tbody tr th:only-of-type {\n",
       "        vertical-align: middle;\n",
       "    }\n",
       "\n",
       "    .dataframe tbody tr th {\n",
       "        vertical-align: top;\n",
       "    }\n",
       "\n",
       "    .dataframe thead th {\n",
       "        text-align: right;\n",
       "    }\n",
       "</style>\n",
       "<table border=\"1\" class=\"dataframe\">\n",
       "  <thead>\n",
       "    <tr style=\"text-align: right;\">\n",
       "      <th></th>\n",
       "      <th>Gender</th>\n",
       "      <th>Neighbourhood</th>\n",
       "      <th>no_show</th>\n",
       "      <th>month</th>\n",
       "      <th>weekday</th>\n",
       "    </tr>\n",
       "  </thead>\n",
       "  <tbody>\n",
       "    <tr>\n",
       "      <th>count</th>\n",
       "      <td>110328</td>\n",
       "      <td>110328</td>\n",
       "      <td>110328</td>\n",
       "      <td>110328</td>\n",
       "      <td>110328</td>\n",
       "    </tr>\n",
       "    <tr>\n",
       "      <th>unique</th>\n",
       "      <td>2</td>\n",
       "      <td>81</td>\n",
       "      <td>2</td>\n",
       "      <td>8</td>\n",
       "      <td>6</td>\n",
       "    </tr>\n",
       "    <tr>\n",
       "      <th>top</th>\n",
       "      <td>F</td>\n",
       "      <td>JARDIM CAMBURI</td>\n",
       "      <td>present</td>\n",
       "      <td>May</td>\n",
       "      <td>Tuesday</td>\n",
       "    </tr>\n",
       "    <tr>\n",
       "      <th>freq</th>\n",
       "      <td>71731</td>\n",
       "      <td>7717</td>\n",
       "      <td>88050</td>\n",
       "      <td>67295</td>\n",
       "      <td>26111</td>\n",
       "    </tr>\n",
       "  </tbody>\n",
       "</table>\n",
       "</div>"
      ],
      "text/plain": [
       "        Gender   Neighbourhood  no_show   month  weekday\n",
       "count   110328          110328   110328  110328   110328\n",
       "unique       2              81        2       8        6\n",
       "top          F  JARDIM CAMBURI  present     May  Tuesday\n",
       "freq     71731            7717    88050   67295    26111"
      ]
     },
     "execution_count": 94,
     "metadata": {},
     "output_type": "execute_result"
    }
   ],
   "source": [
    "df.describe(include = 'object')"
   ]
  },
  {
   "cell_type": "code",
   "execution_count": 165,
   "id": "e0143446",
   "metadata": {},
   "outputs": [
    {
     "data": {
      "text/plain": [
       "PatientId         0\n",
       "AppointmentID     0\n",
       "Gender            0\n",
       "ScheduledDay      0\n",
       "AppointmentDay    0\n",
       "Age               0\n",
       "Neighbourhood     0\n",
       "Scholarship       0\n",
       "Hipertension      0\n",
       "Diabetes          0\n",
       "Alcoholism        0\n",
       "Handcap           0\n",
       "SMS_received      0\n",
       "no_show           0\n",
       "month             0\n",
       "weekday           0\n",
       "hour              0\n",
       "dtype: int64"
      ]
     },
     "execution_count": 165,
     "metadata": {},
     "output_type": "execute_result"
    }
   ],
   "source": [
    "df.isnull().sum()"
   ]
  },
  {
   "cell_type": "code",
   "execution_count": 95,
   "id": "c35bac1d",
   "metadata": {},
   "outputs": [],
   "source": [
    "#removing sign of subtraction \n",
    "df['Age'] = abs(df['Age'])"
   ]
  },
  {
   "cell_type": "code",
   "execution_count": 96,
   "id": "b7905dc2",
   "metadata": {},
   "outputs": [],
   "source": [
    "#droping number greater than 1\n",
    "df= df.drop(df[df['Handcap']>1].index, axis=0)"
   ]
  },
  {
   "cell_type": "code",
   "execution_count": 97,
   "id": "1b673d99",
   "metadata": {},
   "outputs": [
    {
     "data": {
      "text/plain": [
       "0    108286\n",
       "1      2042\n",
       "Name: Handcap, dtype: int64"
      ]
     },
     "execution_count": 97,
     "metadata": {},
     "output_type": "execute_result"
    }
   ],
   "source": [
    "df.Handcap.value_counts()"
   ]
  },
  {
   "cell_type": "code",
   "execution_count": 98,
   "id": "ea9d9cf2",
   "metadata": {},
   "outputs": [],
   "source": [
    "#renaming column name \n",
    "df.rename(columns= {'No-show':'no_show'}, inplace= True)"
   ]
  },
  {
   "cell_type": "code",
   "execution_count": 99,
   "id": "7e0337e9",
   "metadata": {},
   "outputs": [],
   "source": [
    "#replacing value name \n",
    "df['no_show'].replace(['No'],['present'], inplace= True)\n",
    "df['no_show'].replace(['Yes'],['absent'], inplace= True)"
   ]
  },
  {
   "cell_type": "code",
   "execution_count": 100,
   "id": "8d436189",
   "metadata": {},
   "outputs": [],
   "source": [
    "#converting data type to datetime\n",
    "df['AppointmentDay'] = pd.to_datetime(df['AppointmentDay'])"
   ]
  },
  {
   "cell_type": "code",
   "execution_count": 101,
   "id": "2cfc3094",
   "metadata": {},
   "outputs": [],
   "source": [
    "df['ScheduledDay'] = pd.to_datetime(df['ScheduledDay'])"
   ]
  },
  {
   "cell_type": "code",
   "execution_count": 102,
   "id": "76ac1cae",
   "metadata": {},
   "outputs": [],
   "source": [
    "#seperating month,hour and weekday\n",
    "df['month'] = df['ScheduledDay'].dt.month_name()\n",
    "df['weekday'] = df['ScheduledDay'].dt.weekday\n",
    "df['hour'] = df['ScheduledDay'].dt.hour"
   ]
  },
  {
   "cell_type": "code",
   "execution_count": 103,
   "id": "2eea2669",
   "metadata": {},
   "outputs": [],
   "source": [
    "#replacing values\n",
    "df['weekday'].replace([0,1,2,3,4,5,6],['Monday','Tuesday','wednesday','Thursday','Friday','Saturday','Sunday'], inplace= True)"
   ]
  },
  {
   "cell_type": "markdown",
   "id": "dff87e05",
   "metadata": {},
   "source": [
    "## Exploratory Data Analysis and Visualisation "
   ]
  },
  {
   "cell_type": "markdown",
   "id": "593c7728",
   "metadata": {},
   "source": [
    "### 1. what's the ratio of people who misss/didn't miss the appointment "
   ]
  },
  {
   "cell_type": "code",
   "execution_count": 104,
   "id": "0920dc8e",
   "metadata": {},
   "outputs": [
    {
     "data": {
      "text/plain": [
       "110328"
      ]
     },
     "execution_count": 104,
     "metadata": {},
     "output_type": "execute_result"
    }
   ],
   "source": [
    "#to get the percentage i did the count of all the people that was absent and present\n",
    "total= df.no_show.count()\n",
    "total"
   ]
  },
  {
   "cell_type": "code",
   "execution_count": 105,
   "id": "e05bffe7",
   "metadata": {},
   "outputs": [
    {
     "data": {
      "text/plain": [
       "present    88050\n",
       "absent     22278\n",
       "Name: no_show, dtype: int64"
      ]
     },
     "execution_count": 105,
     "metadata": {},
     "output_type": "execute_result"
    }
   ],
   "source": [
    "#to get the percentage i did the value count of the people that was absent and present\n",
    "totalv= df.no_show.value_counts()\n",
    "totalv"
   ]
  },
  {
   "cell_type": "code",
   "execution_count": 106,
   "id": "caf1cf4b",
   "metadata": {
    "scrolled": false
   },
   "outputs": [
    {
     "data": {
      "text/plain": [
       "present    79.807483\n",
       "absent     20.192517\n",
       "Name: no_show, dtype: float64"
      ]
     },
     "execution_count": 106,
     "metadata": {},
     "output_type": "execute_result"
    }
   ],
   "source": [
    "#using the formular to get percentage \n",
    "perc= totalv * 100/total\n",
    "perc"
   ]
  },
  {
   "cell_type": "code",
   "execution_count": 107,
   "id": "90163b42",
   "metadata": {
    "scrolled": true
   },
   "outputs": [
    {
     "data": {
      "text/plain": [
       "present    0.798075\n",
       "absent     0.201925\n",
       "Name: no_show, dtype: float64"
      ]
     },
     "execution_count": 107,
     "metadata": {},
     "output_type": "execute_result"
    }
   ],
   "source": [
    "#using the formular to get ratio\n",
    "ra= totalv/total\n",
    "ra"
   ]
  },
  {
   "cell_type": "code",
   "execution_count": 177,
   "id": "dd05cbf7",
   "metadata": {},
   "outputs": [
    {
     "data": {
      "text/plain": [
       "([<matplotlib.patches.Wedge at 0x7fe7a7357130>,\n",
       "  <matplotlib.patches.Wedge at 0x7fe7aa1d6a90>],\n",
       " [Text(0.8859919825215443, -0.6519342044313551, 'present'),\n",
       "  Text(-0.8859920130407857, 0.6519341629550768, 'absent')],\n",
       " [Text(0.4832683541026605, -0.3556004751443754, '79.8%'),\n",
       "  Text(-0.4832683707495194, 0.3556004525209509, '20.2%')])"
      ]
     },
     "execution_count": 177,
     "metadata": {},
     "output_type": "execute_result"
    },
    {
     "data": {
      "image/png": "[encoded data removed]",
      "text/plain": [
       "<Figure size 1200x600 with 1 Axes>"
      ]
     },
     "metadata": {},
     "output_type": "display_data"
    }
   ],
   "source": [
    "plt.figure(figsize=(12,6))\n",
    "plt.title('Ratio of people that miss/didnot miss')\n",
    "plt.pie(ra,labels=ra.index, autopct='%1.1f%%', startangle=180, shadow=False)"
   ]
  },
  {
   "cell_type": "code",
   "execution_count": 171,
   "id": "2651c241",
   "metadata": {},
   "outputs": [
    {
     "data": {
      "text/html": [
       "\n",
       "<script>\n",
       "    require.config({\n",
       "        paths: {\n",
       "            'chartXkcd':'https://cdn.jsdelivr.net/npm/chart.xkcd@1.1/dist/chart.xkcd.min'\n",
       "        }\n",
       "    });\n",
       "</script>\n",
       "\n",
       "<div id=\"f676ad5a9461411ba02cce9bc1b37103\" class=\"chart-container\" style=\"width: 720px\">\n",
       "        <svg id=\"chart_f676ad5a9461411ba02cce9bc1b37103\"></svg>\n",
       "    </div>\n",
       "    <script>\n",
       "        require(['chartXkcd'], function(chartXkcd) {\n",
       "            const svg_f676ad5a9461411ba02cce9bc1b37103 = document.querySelector('#chart_f676ad5a9461411ba02cce9bc1b37103')\n",
       "            const chart_f676ad5a9461411ba02cce9bc1b37103 = new chartXkcd.Pie(svg_f676ad5a9461411ba02cce9bc1b37103, {\"title\": \"Ratio of people that miss/didnot miss\", \"data\": {\"datasets\": [{\"data\": [0.7980748314117903, 0.2019251685882097]}], \"labels\": [\"present\", \"absent\"]}, \"options\": {\"innerRadius\": 0, \"legendPosition\": 1, \"dataColors\": [\"#ee333c\", \"#168ab5\"]}});\n",
       "        })\n",
       "    </script>\n"
      ],
      "text/plain": [
       "<cutecharts.render.engine.HTML at 0x7fe7a7391220>"
      ]
     },
     "execution_count": 171,
     "metadata": {},
     "output_type": "execute_result"
    }
   ],
   "source": [
    "t_values = ra\n",
    "t_labels =df.no_show.unique()\n",
    "\n",
    "# pie chart \n",
    "pie = ctc.Pie('Ratio of people that miss/didnot miss', # title\n",
    "              width='720px',height='720px')\n",
    "\n",
    "# set the chart options\n",
    "pie.set_options(labels=list(t_labels), # country names as labels\n",
    "                inner_radius=0,                  # inner radius set to 0\n",
    "                colors=['#ee333c','#168ab5'])\n",
    "\n",
    "# label to be shown on graph\n",
    "pie.add_series(list(t_values)) \n",
    "\n",
    "# display the charts\n",
    "pie.render_notebook()"
   ]
  },
  {
   "cell_type": "markdown",
   "id": "5cdc35c5",
   "metadata": {},
   "source": [
    "### 2. who didn't show up more often male or female"
   ]
  },
  {
   "cell_type": "code",
   "execution_count": 109,
   "id": "3a6961fb",
   "metadata": {},
   "outputs": [
    {
     "data": {
      "text/html": [
       "<div>\n",
       "<style scoped>\n",
       "    .dataframe tbody tr th:only-of-type {\n",
       "        vertical-align: middle;\n",
       "    }\n",
       "\n",
       "    .dataframe tbody tr th {\n",
       "        vertical-align: top;\n",
       "    }\n",
       "\n",
       "    .dataframe thead th {\n",
       "        text-align: right;\n",
       "    }\n",
       "</style>\n",
       "<table border=\"1\" class=\"dataframe\">\n",
       "  <thead>\n",
       "    <tr style=\"text-align: right;\">\n",
       "      <th></th>\n",
       "      <th>PatientId</th>\n",
       "      <th>AppointmentID</th>\n",
       "      <th>Gender</th>\n",
       "      <th>ScheduledDay</th>\n",
       "      <th>AppointmentDay</th>\n",
       "      <th>Age</th>\n",
       "      <th>Neighbourhood</th>\n",
       "      <th>Scholarship</th>\n",
       "      <th>Hipertension</th>\n",
       "      <th>Diabetes</th>\n",
       "      <th>Alcoholism</th>\n",
       "      <th>Handcap</th>\n",
       "      <th>SMS_received</th>\n",
       "      <th>no_show</th>\n",
       "      <th>month</th>\n",
       "      <th>weekday</th>\n",
       "      <th>hour</th>\n",
       "    </tr>\n",
       "  </thead>\n",
       "  <tbody>\n",
       "    <tr>\n",
       "      <th>6</th>\n",
       "      <td>7.336880e+14</td>\n",
       "      <td>5630279</td>\n",
       "      <td>F</td>\n",
       "      <td>2016-04-27 15:05:12+00:00</td>\n",
       "      <td>2016-04-29 00:00:00+00:00</td>\n",
       "      <td>23</td>\n",
       "      <td>GOIABEIRAS</td>\n",
       "      <td>0</td>\n",
       "      <td>0</td>\n",
       "      <td>0</td>\n",
       "      <td>0</td>\n",
       "      <td>0</td>\n",
       "      <td>0</td>\n",
       "      <td>absent</td>\n",
       "      <td>April</td>\n",
       "      <td>wednesday</td>\n",
       "      <td>15</td>\n",
       "    </tr>\n",
       "    <tr>\n",
       "      <th>7</th>\n",
       "      <td>3.449830e+12</td>\n",
       "      <td>5630575</td>\n",
       "      <td>F</td>\n",
       "      <td>2016-04-27 15:39:58+00:00</td>\n",
       "      <td>2016-04-29 00:00:00+00:00</td>\n",
       "      <td>39</td>\n",
       "      <td>GOIABEIRAS</td>\n",
       "      <td>0</td>\n",
       "      <td>0</td>\n",
       "      <td>0</td>\n",
       "      <td>0</td>\n",
       "      <td>0</td>\n",
       "      <td>0</td>\n",
       "      <td>absent</td>\n",
       "      <td>April</td>\n",
       "      <td>wednesday</td>\n",
       "      <td>15</td>\n",
       "    </tr>\n",
       "    <tr>\n",
       "      <th>11</th>\n",
       "      <td>7.542950e+12</td>\n",
       "      <td>5620163</td>\n",
       "      <td>M</td>\n",
       "      <td>2016-04-26 08:44:12+00:00</td>\n",
       "      <td>2016-04-29 00:00:00+00:00</td>\n",
       "      <td>29</td>\n",
       "      <td>NOVA PALESTINA</td>\n",
       "      <td>0</td>\n",
       "      <td>0</td>\n",
       "      <td>0</td>\n",
       "      <td>0</td>\n",
       "      <td>0</td>\n",
       "      <td>1</td>\n",
       "      <td>absent</td>\n",
       "      <td>April</td>\n",
       "      <td>Tuesday</td>\n",
       "      <td>8</td>\n",
       "    </tr>\n",
       "    <tr>\n",
       "      <th>17</th>\n",
       "      <td>1.479500e+13</td>\n",
       "      <td>5633460</td>\n",
       "      <td>F</td>\n",
       "      <td>2016-04-28 09:28:57+00:00</td>\n",
       "      <td>2016-04-29 00:00:00+00:00</td>\n",
       "      <td>40</td>\n",
       "      <td>CONQUISTA</td>\n",
       "      <td>1</td>\n",
       "      <td>0</td>\n",
       "      <td>0</td>\n",
       "      <td>0</td>\n",
       "      <td>0</td>\n",
       "      <td>0</td>\n",
       "      <td>absent</td>\n",
       "      <td>April</td>\n",
       "      <td>Thursday</td>\n",
       "      <td>9</td>\n",
       "    </tr>\n",
       "    <tr>\n",
       "      <th>20</th>\n",
       "      <td>6.222570e+14</td>\n",
       "      <td>5626083</td>\n",
       "      <td>F</td>\n",
       "      <td>2016-04-27 07:51:14+00:00</td>\n",
       "      <td>2016-04-29 00:00:00+00:00</td>\n",
       "      <td>30</td>\n",
       "      <td>NOVA PALESTINA</td>\n",
       "      <td>0</td>\n",
       "      <td>0</td>\n",
       "      <td>0</td>\n",
       "      <td>0</td>\n",
       "      <td>0</td>\n",
       "      <td>0</td>\n",
       "      <td>absent</td>\n",
       "      <td>April</td>\n",
       "      <td>wednesday</td>\n",
       "      <td>7</td>\n",
       "    </tr>\n",
       "    <tr>\n",
       "      <th>...</th>\n",
       "      <td>...</td>\n",
       "      <td>...</td>\n",
       "      <td>...</td>\n",
       "      <td>...</td>\n",
       "      <td>...</td>\n",
       "      <td>...</td>\n",
       "      <td>...</td>\n",
       "      <td>...</td>\n",
       "      <td>...</td>\n",
       "      <td>...</td>\n",
       "      <td>...</td>\n",
       "      <td>...</td>\n",
       "      <td>...</td>\n",
       "      <td>...</td>\n",
       "      <td>...</td>\n",
       "      <td>...</td>\n",
       "      <td>...</td>\n",
       "    </tr>\n",
       "    <tr>\n",
       "      <th>110484</th>\n",
       "      <td>5.133650e+14</td>\n",
       "      <td>5772155</td>\n",
       "      <td>F</td>\n",
       "      <td>2016-06-03 14:43:56+00:00</td>\n",
       "      <td>2016-06-07 00:00:00+00:00</td>\n",
       "      <td>45</td>\n",
       "      <td>BARRO VERMELHO</td>\n",
       "      <td>0</td>\n",
       "      <td>0</td>\n",
       "      <td>0</td>\n",
       "      <td>0</td>\n",
       "      <td>0</td>\n",
       "      <td>0</td>\n",
       "      <td>absent</td>\n",
       "      <td>June</td>\n",
       "      <td>Friday</td>\n",
       "      <td>14</td>\n",
       "    </tr>\n",
       "    <tr>\n",
       "      <th>110492</th>\n",
       "      <td>6.456340e+14</td>\n",
       "      <td>5786741</td>\n",
       "      <td>M</td>\n",
       "      <td>2016-06-08 08:50:19+00:00</td>\n",
       "      <td>2016-06-08 00:00:00+00:00</td>\n",
       "      <td>33</td>\n",
       "      <td>MARIA ORTIZ</td>\n",
       "      <td>0</td>\n",
       "      <td>1</td>\n",
       "      <td>0</td>\n",
       "      <td>0</td>\n",
       "      <td>0</td>\n",
       "      <td>0</td>\n",
       "      <td>absent</td>\n",
       "      <td>June</td>\n",
       "      <td>wednesday</td>\n",
       "      <td>8</td>\n",
       "    </tr>\n",
       "    <tr>\n",
       "      <th>110496</th>\n",
       "      <td>8.544300e+13</td>\n",
       "      <td>5779046</td>\n",
       "      <td>F</td>\n",
       "      <td>2016-06-06 17:35:38+00:00</td>\n",
       "      <td>2016-06-08 00:00:00+00:00</td>\n",
       "      <td>37</td>\n",
       "      <td>MARIA ORTIZ</td>\n",
       "      <td>0</td>\n",
       "      <td>1</td>\n",
       "      <td>0</td>\n",
       "      <td>0</td>\n",
       "      <td>0</td>\n",
       "      <td>0</td>\n",
       "      <td>absent</td>\n",
       "      <td>June</td>\n",
       "      <td>Monday</td>\n",
       "      <td>17</td>\n",
       "    </tr>\n",
       "    <tr>\n",
       "      <th>110515</th>\n",
       "      <td>6.456340e+14</td>\n",
       "      <td>5778621</td>\n",
       "      <td>M</td>\n",
       "      <td>2016-06-06 15:58:05+00:00</td>\n",
       "      <td>2016-06-08 00:00:00+00:00</td>\n",
       "      <td>33</td>\n",
       "      <td>MARIA ORTIZ</td>\n",
       "      <td>0</td>\n",
       "      <td>1</td>\n",
       "      <td>0</td>\n",
       "      <td>0</td>\n",
       "      <td>0</td>\n",
       "      <td>0</td>\n",
       "      <td>absent</td>\n",
       "      <td>June</td>\n",
       "      <td>Monday</td>\n",
       "      <td>15</td>\n",
       "    </tr>\n",
       "    <tr>\n",
       "      <th>110516</th>\n",
       "      <td>6.923770e+13</td>\n",
       "      <td>5780205</td>\n",
       "      <td>F</td>\n",
       "      <td>2016-06-07 07:45:16+00:00</td>\n",
       "      <td>2016-06-08 00:00:00+00:00</td>\n",
       "      <td>37</td>\n",
       "      <td>MARIA ORTIZ</td>\n",
       "      <td>0</td>\n",
       "      <td>0</td>\n",
       "      <td>0</td>\n",
       "      <td>0</td>\n",
       "      <td>0</td>\n",
       "      <td>0</td>\n",
       "      <td>absent</td>\n",
       "      <td>June</td>\n",
       "      <td>Tuesday</td>\n",
       "      <td>7</td>\n",
       "    </tr>\n",
       "  </tbody>\n",
       "</table>\n",
       "<p>22278 rows × 17 columns</p>\n",
       "</div>"
      ],
      "text/plain": [
       "           PatientId  AppointmentID Gender              ScheduledDay  \\\n",
       "6       7.336880e+14        5630279      F 2016-04-27 15:05:12+00:00   \n",
       "7       3.449830e+12        5630575      F 2016-04-27 15:39:58+00:00   \n",
       "11      7.542950e+12        5620163      M 2016-04-26 08:44:12+00:00   \n",
       "17      1.479500e+13        5633460      F 2016-04-28 09:28:57+00:00   \n",
       "20      6.222570e+14        5626083      F 2016-04-27 07:51:14+00:00   \n",
       "...              ...            ...    ...                       ...   \n",
       "110484  5.133650e+14        5772155      F 2016-06-03 14:43:56+00:00   \n",
       "110492  6.456340e+14        5786741      M 2016-06-08 08:50:19+00:00   \n",
       "110496  8.544300e+13        5779046      F 2016-06-06 17:35:38+00:00   \n",
       "110515  6.456340e+14        5778621      M 2016-06-06 15:58:05+00:00   \n",
       "110516  6.923770e+13        5780205      F 2016-06-07 07:45:16+00:00   \n",
       "\n",
       "                  AppointmentDay  Age   Neighbourhood  Scholarship  \\\n",
       "6      2016-04-29 00:00:00+00:00   23      GOIABEIRAS            0   \n",
       "7      2016-04-29 00:00:00+00:00   39      GOIABEIRAS            0   \n",
       "11     2016-04-29 00:00:00+00:00   29  NOVA PALESTINA            0   \n",
       "17     2016-04-29 00:00:00+00:00   40       CONQUISTA            1   \n",
       "20     2016-04-29 00:00:00+00:00   30  NOVA PALESTINA            0   \n",
       "...                          ...  ...             ...          ...   \n",
       "110484 2016-06-07 00:00:00+00:00   45  BARRO VERMELHO            0   \n",
       "110492 2016-06-08 00:00:00+00:00   33     MARIA ORTIZ            0   \n",
       "110496 2016-06-08 00:00:00+00:00   37     MARIA ORTIZ            0   \n",
       "110515 2016-06-08 00:00:00+00:00   33     MARIA ORTIZ            0   \n",
       "110516 2016-06-08 00:00:00+00:00   37     MARIA ORTIZ            0   \n",
       "\n",
       "        Hipertension  Diabetes  Alcoholism  Handcap  SMS_received no_show  \\\n",
       "6                  0         0           0        0             0  absent   \n",
       "7                  0         0           0        0             0  absent   \n",
       "11                 0         0           0        0             1  absent   \n",
       "17                 0         0           0        0             0  absent   \n",
       "20                 0         0           0        0             0  absent   \n",
       "...              ...       ...         ...      ...           ...     ...   \n",
       "110484             0         0           0        0             0  absent   \n",
       "110492             1         0           0        0             0  absent   \n",
       "110496             1         0           0        0             0  absent   \n",
       "110515             1         0           0        0             0  absent   \n",
       "110516             0         0           0        0             0  absent   \n",
       "\n",
       "        month    weekday  hour  \n",
       "6       April  wednesday    15  \n",
       "7       April  wednesday    15  \n",
       "11      April    Tuesday     8  \n",
       "17      April   Thursday     9  \n",
       "20      April  wednesday     7  \n",
       "...       ...        ...   ...  \n",
       "110484   June     Friday    14  \n",
       "110492   June  wednesday     8  \n",
       "110496   June     Monday    17  \n",
       "110515   June     Monday    15  \n",
       "110516   June    Tuesday     7  \n",
       "\n",
       "[22278 rows x 17 columns]"
      ]
     },
     "execution_count": 109,
     "metadata": {},
     "output_type": "execute_result"
    }
   ],
   "source": [
    "#created a dataframe for people that missed \n",
    "noshow= df.iloc[:,-4]=='absent'\n",
    "ddf= df[noshow]\n",
    "ddf"
   ]
  },
  {
   "cell_type": "code",
   "execution_count": 110,
   "id": "2d799ba8",
   "metadata": {
    "scrolled": false
   },
   "outputs": [
    {
     "data": {
      "text/plain": [
       "F    14568\n",
       "M     7710\n",
       "Name: Gender, dtype: int64"
      ]
     },
     "execution_count": 110,
     "metadata": {},
     "output_type": "execute_result"
    }
   ],
   "source": [
    "at= ddf['Gender'].value_counts()\n",
    "at"
   ]
  },
  {
   "cell_type": "code",
   "execution_count": 176,
   "id": "85bc4f1b",
   "metadata": {},
   "outputs": [
    {
     "data": {
      "text/plain": [
       "([<matplotlib.patches.Wedge at 0x7fe7aa33c070>,\n",
       "  <matplotlib.patches.Wedge at 0x7fe7aa33c790>],\n",
       " [Text(0.5114174107384998, -0.9738851225855794, 'F'),\n",
       "  Text(-0.5114175019202022, 0.9738850747032219, 'M')],\n",
       " [Text(0.2789549513119089, -0.5312100668648614, '65.4%'),\n",
       "  Text(-0.27895500104738297, 0.5312100407472119, '34.6%')])"
      ]
     },
     "execution_count": 176,
     "metadata": {},
     "output_type": "execute_result"
    },
    {
     "data": {
      "image/png": "[encoded data removed]",
      "text/plain": [
       "<Figure size 1200x600 with 1 Axes>"
      ]
     },
     "metadata": {},
     "output_type": "display_data"
    }
   ],
   "source": [
    "plt.figure(figsize=(12,6))\n",
    "plt.title('who did not show up more often male or female')\n",
    "plt.pie(at,labels=at.index, autopct='%1.1f%%', startangle=180, shadow=False)"
   ]
  },
  {
   "cell_type": "code",
   "execution_count": 172,
   "id": "c5f148fd",
   "metadata": {
    "scrolled": true
   },
   "outputs": [
    {
     "data": {
      "text/html": [
       "\n",
       "<script>\n",
       "    require.config({\n",
       "        paths: {\n",
       "            'chartXkcd':'https://cdn.jsdelivr.net/npm/chart.xkcd@1.1/dist/chart.xkcd.min'\n",
       "        }\n",
       "    });\n",
       "</script>\n",
       "\n",
       "<div id=\"750feff115eb4783be1d5cbcfddc5610\" class=\"chart-container\" style=\"width: 720px\">\n",
       "        <svg id=\"chart_750feff115eb4783be1d5cbcfddc5610\"></svg>\n",
       "    </div>\n",
       "    <script>\n",
       "        require(['chartXkcd'], function(chartXkcd) {\n",
       "            const svg_750feff115eb4783be1d5cbcfddc5610 = document.querySelector('#chart_750feff115eb4783be1d5cbcfddc5610')\n",
       "            const chart_750feff115eb4783be1d5cbcfddc5610 = new chartXkcd.Pie(svg_750feff115eb4783be1d5cbcfddc5610, {\"title\": \"who did not show up more often male or female\", \"data\": {\"datasets\": [{\"data\": [14568, 7710]}], \"labels\": [\"F\", \"M\"]}, \"options\": {\"innerRadius\": 0, \"legendPosition\": 1, \"dataColors\": [\"#ee333c\", \"#168ab5\"]}});\n",
       "        })\n",
       "    </script>\n"
      ],
      "text/plain": [
       "<cutecharts.render.engine.HTML at 0x7fe7bbf0d4c0>"
      ]
     },
     "execution_count": 172,
     "metadata": {},
     "output_type": "execute_result"
    }
   ],
   "source": [
    "t_values = ddf['Gender'].value_counts()\n",
    "t_labels = ddf['Gender'].unique()\n",
    "\n",
    "# pie chart \n",
    "pie = ctc.Pie('who did not show up more often male or female', # title\n",
    "              width='720px',height='720px')\n",
    "\n",
    "# set the chart options\n",
    "pie.set_options(labels=list(t_labels), # country names as labels\n",
    "                inner_radius=0,                  # inner radius set to 0\n",
    "                colors=['#ee333c','#168ab5'])\n",
    "\n",
    "# label to be shown on graph\n",
    "pie.add_series(list(t_values)) \n",
    "\n",
    "# display the charts\n",
    "pie.render_notebook()"
   ]
  },
  {
   "cell_type": "markdown",
   "id": "5debf5e5",
   "metadata": {},
   "source": [
    "### 3.Most month for not showing up"
   ]
  },
  {
   "cell_type": "code",
   "execution_count": 180,
   "id": "d92230e9",
   "metadata": {},
   "outputs": [
    {
     "name": "stdout",
     "output_type": "stream",
     "text": [
      "      month  Count\n",
      "6       May  11749\n",
      "0     April   7834\n",
      "4      June   1383\n",
      "5     March   1194\n",
      "2  February     81\n"
     ]
    }
   ],
   "source": [
    "newdata = ddf.groupby('month').size().rename_axis('month').reset_index(name='Count')\n",
    "mpm = newdata.sort_values(by ='Count', ascending=False)\n",
    "mpm = nd.head(5)\n",
    "print(mpm)"
   ]
  },
  {
   "cell_type": "code",
   "execution_count": 195,
   "id": "b15ca91a",
   "metadata": {},
   "outputs": [
    {
     "data": {
      "image/png": "[encoded data removed]",
      "text/plain": [
       "<Figure size 1000x800 with 1 Axes>"
      ]
     },
     "metadata": {},
     "output_type": "display_data"
    }
   ],
   "source": [
    "fig,mu =plt.subplots(figsize=(10,8))\n",
    "mu = sns.barplot(data=mpm,x='month',y='Count',ci=None, estimator=np.sum, edgecolor='Black')\n",
    "for i in mu.containers:\n",
    "    mu.bar_label(i,)"
   ]
  },
  {
   "cell_type": "code",
   "execution_count": 173,
   "id": "9dd5146e",
   "metadata": {
    "scrolled": true
   },
   "outputs": [
    {
     "data": {
      "text/html": [
       "\n",
       "<script>\n",
       "    require.config({\n",
       "        paths: {\n",
       "            'chartXkcd':'https://cdn.jsdelivr.net/npm/chart.xkcd@1.1/dist/chart.xkcd.min'\n",
       "        }\n",
       "    });\n",
       "</script>\n",
       "\n",
       "<div id=\"9ed2ae1544ed42ba89553d03da61bd60\" class=\"chart-container\" style=\"width: 600px\">\n",
       "        <svg id=\"chart_9ed2ae1544ed42ba89553d03da61bd60\"></svg>\n",
       "    </div>\n",
       "    <script>\n",
       "        require(['chartXkcd'], function(chartXkcd) {\n",
       "            const svg_9ed2ae1544ed42ba89553d03da61bd60 = document.querySelector('#chart_9ed2ae1544ed42ba89553d03da61bd60')\n",
       "            const chart_9ed2ae1544ed42ba89553d03da61bd60 = new chartXkcd.Bar(svg_9ed2ae1544ed42ba89553d03da61bd60, {\"title\": \"Most month for not showing up\", \"data\": {\"datasets\": [{\"label\": \"value\", \"data\": [11749, 7834, 1383, 1194, 81]}], \"labels\": [\"May\", \"April\", \"June\", \"March\", \"February\"]}, \"xLabel\": \"Months\", \"yLabel\": \"Count\", \"options\": {\"yTickCount\": 3, \"dataColors\": [\"#c23531\", \"#2f4554\", \"#61a0a8\", \"#d48265\", \"#749f83\", \"#ca8622\", \"#bda29a\"]}});\n",
       "        })\n",
       "    </script>\n"
      ],
      "text/plain": [
       "<cutecharts.render.engine.HTML at 0x7fe7a73ac280>"
      ]
     },
     "execution_count": 173,
     "metadata": {},
     "output_type": "execute_result"
    }
   ],
   "source": [
    "colors=['#FFF1C9', '#F7B7A3', '#EA5F89', '#9B3192', '#57167E', '#47B39C','#00529B']\n",
    "\n",
    "chart = ctc.Bar('Most month for not showing up', width='600px', height='200px')\n",
    "\n",
    "chart.set_options(labels=list(mpm.month),\n",
    "\n",
    "            x_label='Months',\n",
    "\n",
    "            y_label='Count',   \n",
    "\n",
    "            colors=Faker.colors\n",
    ")\n",
    "\n",
    "chart.add_series('value',list(mpm['Count']))\n",
    "\n",
    "chart.render_notebook()\n"
   ]
  },
  {
   "cell_type": "markdown",
   "id": "b5807951",
   "metadata": {},
   "source": [
    "### 4. Most hour for not showing up"
   ]
  },
  {
   "cell_type": "code",
   "execution_count": 120,
   "id": "b759f3ba",
   "metadata": {
    "scrolled": true
   },
   "outputs": [
    {
     "name": "stdout",
     "output_type": "stream",
     "text": [
      "   hour  Count\n",
      "1     7   2906\n",
      "2     8   2802\n",
      "3     9   2519\n",
      "4    10   2435\n",
      "8    14   2067\n"
     ]
    }
   ],
   "source": [
    "#getting the popular hour\n",
    "hrs = ddf.groupby('hour').size().rename_axis('hour').reset_index(name='Count')\n",
    "hr = hrs.sort_values(by ='Count', ascending=False)\n",
    "hr = hr.head(5)\n",
    "print(hr)"
   ]
  },
  {
   "cell_type": "code",
   "execution_count": 197,
   "id": "4118e5d4",
   "metadata": {},
   "outputs": [
    {
     "data": {
      "image/png": "[encoded data removed]",
      "text/plain": [
       "<Figure size 1000x800 with 1 Axes>"
      ]
     },
     "metadata": {},
     "output_type": "display_data"
    }
   ],
   "source": [
    "fig,hu =plt.subplots(figsize=(10,8))\n",
    "hu = sns.barplot(data=hr,x='hour',y='Count',ci=None, estimator=np.sum, edgecolor='Black')\n",
    "for i in hu.containers:\n",
    "    hu.bar_label(i,)"
   ]
  },
  {
   "cell_type": "code",
   "execution_count": 174,
   "id": "4d313996",
   "metadata": {
    "scrolled": true
   },
   "outputs": [
    {
     "data": {
      "text/html": [
       "\n",
       "<script>\n",
       "    require.config({\n",
       "        paths: {\n",
       "            'chartXkcd':'https://cdn.jsdelivr.net/npm/chart.xkcd@1.1/dist/chart.xkcd.min'\n",
       "        }\n",
       "    });\n",
       "</script>\n",
       "\n",
       "<div id=\"4de53a647c9e4f59825a7804555a36e8\" class=\"chart-container\" style=\"width: 600px\">\n",
       "        <svg id=\"chart_4de53a647c9e4f59825a7804555a36e8\"></svg>\n",
       "    </div>\n",
       "    <script>\n",
       "        require(['chartXkcd'], function(chartXkcd) {\n",
       "            const svg_4de53a647c9e4f59825a7804555a36e8 = document.querySelector('#chart_4de53a647c9e4f59825a7804555a36e8')\n",
       "            const chart_4de53a647c9e4f59825a7804555a36e8 = new chartXkcd.Bar(svg_4de53a647c9e4f59825a7804555a36e8, {\"title\": \"Most hour for not showing up\", \"data\": {\"datasets\": [{\"label\": \"value\", \"data\": [2906, 2802, 2519, 2435, 2067]}], \"labels\": [7, 8, 9, 10, 14]}, \"xLabel\": \"hour\", \"yLabel\": \"Count\", \"options\": {\"yTickCount\": 3, \"dataColors\": [\"#c23531\", \"#2f4554\", \"#61a0a8\", \"#d48265\", \"#749f83\", \"#ca8622\", \"#bda29a\"]}});\n",
       "        })\n",
       "    </script>\n"
      ],
      "text/plain": [
       "<cutecharts.render.engine.HTML at 0x7fe7a73620a0>"
      ]
     },
     "execution_count": 174,
     "metadata": {},
     "output_type": "execute_result"
    }
   ],
   "source": [
    "colors=['#FFF1C9', '#F7B7A3', '#EA5F89', '#9B3192', '#57167E', '#47B39C','#00529B']\n",
    "\n",
    "chart = ctc.Bar('Most hour for not showing up', width='600px', height='200px')\n",
    "\n",
    "chart.set_options(labels=list(hr.hour),\n",
    "\n",
    "            x_label='hour',\n",
    "\n",
    "            y_label='Count',   \n",
    "\n",
    "            colors=Faker.colors\n",
    ")\n",
    "\n",
    "chart.add_series('value',list(hr['Count']))\n",
    "\n",
    "chart.render_notebook()\n"
   ]
  },
  {
   "cell_type": "markdown",
   "id": "180e316d",
   "metadata": {},
   "source": [
    "### 5.Most weekday for not showing up"
   ]
  },
  {
   "cell_type": "code",
   "execution_count": 126,
   "id": "54db6793",
   "metadata": {
    "scrolled": true
   },
   "outputs": [
    {
     "name": "stdout",
     "output_type": "stream",
     "text": [
      "     weekday  Count\n",
      "4    Tuesday   5277\n",
      "5  wednesday   4871\n",
      "1     Monday   4552\n",
      "0     Friday   3881\n",
      "3   Thursday   3696\n"
     ]
    }
   ],
   "source": [
    "#getting the popular weekday\n",
    "weeks = ddf.groupby('weekday').size().rename_axis('weekday').reset_index(name='Count')\n",
    "week = weeks.sort_values(by ='Count', ascending=False)\n",
    "week = week.head(5)\n",
    "print(week)"
   ]
  },
  {
   "cell_type": "code",
   "execution_count": 200,
   "id": "b67fcfb0",
   "metadata": {},
   "outputs": [
    {
     "data": {
      "image/png": "[encoded data removed]",
      "text/plain": [
       "<Figure size 1000x800 with 1 Axes>"
      ]
     },
     "metadata": {},
     "output_type": "display_data"
    }
   ],
   "source": [
    "fig,wk =plt.subplots(figsize=(10,8))\n",
    "wk = sns.barplot(data=week,x='weekday',y='Count',ci=None, estimator=np.sum, edgecolor='Black')\n",
    "for i in wk.containers:\n",
    "    wk.bar_label(i,)"
   ]
  },
  {
   "cell_type": "code",
   "execution_count": 170,
   "id": "0c94cdca",
   "metadata": {
    "scrolled": true
   },
   "outputs": [
    {
     "data": {
      "text/html": [
       "\n",
       "<script>\n",
       "    require.config({\n",
       "        paths: {\n",
       "            'chartXkcd':'https://cdn.jsdelivr.net/npm/chart.xkcd@1.1/dist/chart.xkcd.min'\n",
       "        }\n",
       "    });\n",
       "</script>\n",
       "\n",
       "<div id=\"fe7d1bc2d0004065b0cbcd070b049183\" class=\"chart-container\" style=\"width: 600px\">\n",
       "        <svg id=\"chart_fe7d1bc2d0004065b0cbcd070b049183\"></svg>\n",
       "    </div>\n",
       "    <script>\n",
       "        require(['chartXkcd'], function(chartXkcd) {\n",
       "            const svg_fe7d1bc2d0004065b0cbcd070b049183 = document.querySelector('#chart_fe7d1bc2d0004065b0cbcd070b049183')\n",
       "            const chart_fe7d1bc2d0004065b0cbcd070b049183 = new chartXkcd.Bar(svg_fe7d1bc2d0004065b0cbcd070b049183, {\"title\": \"Most weekday for not showing up\", \"data\": {\"datasets\": [{\"label\": \"value\", \"data\": [5277, 4871, 4552, 3881, 3696]}], \"labels\": [\"Tuesday\", \"wednesday\", \"Monday\", \"Friday\", \"Thursday\"]}, \"xLabel\": \"weekday\", \"yLabel\": \"Count\", \"options\": {\"yTickCount\": 3, \"dataColors\": [\"#c23531\", \"#2f4554\", \"#61a0a8\", \"#d48265\", \"#749f83\", \"#ca8622\", \"#bda29a\"]}});\n",
       "        })\n",
       "    </script>\n"
      ],
      "text/plain": [
       "<cutecharts.render.engine.HTML at 0x7fe7a99170a0>"
      ]
     },
     "execution_count": 170,
     "metadata": {},
     "output_type": "execute_result"
    }
   ],
   "source": [
    "colors=['#FFF1C9', '#F7B7A3', '#EA5F89', '#9B3192', '#57167E', '#47B39C','#00529B']\n",
    "\n",
    "chart = ctc.Bar('Most weekday for not showing up', width='600px', height='200px')\n",
    "\n",
    "chart.set_options(labels=list(week.weekday),\n",
    "\n",
    "            x_label='weekday',\n",
    "\n",
    "            y_label='Count',   \n",
    "\n",
    "            colors=Faker.colors\n",
    ")\n",
    "\n",
    "chart.add_series('value',list(week['Count']))\n",
    "\n",
    "chart.render_notebook()\n"
   ]
  },
  {
   "cell_type": "markdown",
   "id": "859f1bfe",
   "metadata": {},
   "source": [
    "### 6. Age distribution of patients "
   ]
  },
  {
   "cell_type": "code",
   "execution_count": 139,
   "id": "f4c83b02",
   "metadata": {
    "scrolled": true
   },
   "outputs": [
    {
     "data": {
      "text/plain": [
       "<AxesSubplot:ylabel='Density'>"
      ]
     },
     "execution_count": 139,
     "metadata": {},
     "output_type": "execute_result"
    },
    {
     "data": {
      "image/png": "[encoded data removed]",
      "text/plain": [
       "<Figure size 640x480 with 1 Axes>"
      ]
     },
     "metadata": {},
     "output_type": "display_data"
    }
   ],
   "source": [
    "df.Age.plot(kind='kde')"
   ]
  },
  {
   "cell_type": "code",
   "execution_count": 140,
   "id": "063b02ca",
   "metadata": {
    "scrolled": true
   },
   "outputs": [
    {
     "data": {
      "text/plain": [
       "<AxesSubplot:ylabel='Frequency'>"
      ]
     },
     "execution_count": 140,
     "metadata": {},
     "output_type": "execute_result"
    },
    {
     "data": {
      "image/png": "[encoded data removed]",
      "text/plain": [
       "<Figure size 640x480 with 1 Axes>"
      ]
     },
     "metadata": {},
     "output_type": "display_data"
    }
   ],
   "source": [
    "df.Age.plot(kind='hist', edgecolor='black')"
   ]
  }
 ],
 "metadata": {
  "kernelspec": {
   "display_name": "Python 3 (ipykernel)",
   "language": "python",
   "name": "python3"
  },
  "language_info": {
   "codemirror_mode": {
    "name": "ipython",
    "version": 3
   },
   "file_extension": ".py",
   "mimetype": "text/x-python",
   "name": "python",
   "nbconvert_exporter": "python",
   "pygments_lexer": "ipython3",
   "version": "3.9.13"
  }
 },
 "nbformat": 4,
 "nbformat_minor": 5
}
